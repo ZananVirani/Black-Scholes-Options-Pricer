{
  "cells": [
    {
      "cell_type": "markdown",
      "id": "20d3d26f-9752-4d42-987d-413255c23587",
      "metadata": {
        "id": "20d3d26f-9752-4d42-987d-413255c23587"
      },
      "source": [
        "# Black–Scholes Model for Options Pricing\n",
        "\n",
        "This notebook applies the Black–Scholes model to price European call and put options, calculates the Greeks, and determines implied volatility via the Newton–Raphson method.\n",
        "---"
      ]
    },
    {
      "cell_type": "markdown",
      "source": [
        "## Use Cases\n",
        "The Black-Scholes Model for pricing options is useful for:\n",
        "- Quick valuation of European options\n",
        "- Risk sensitivity analysis (delta, gamma, vega, theta, rho)\n",
        "- Extracting volatility from observed market prices\n",
        "\n",
        "---"
      ],
      "metadata": {
        "id": "wDNcNh5MtjEn"
      },
      "id": "wDNcNh5MtjEn"
    },
    {
      "cell_type": "markdown",
      "source": [
        "## Assumptions of the Black–Scholes Model\n",
        "\n",
        "The Black–Scholes model relies on several key assumptions:\n",
        "\n",
        "1. **Efficient Markets**  \n",
        "   Markets are frictionless, with no transaction costs or taxes, and prices reflect all available information.\n",
        "\n",
        "2. **Lognormal Price Distribution**  \n",
        "   The underlying asset price follows a **geometric Brownian motion** with constant drift and volatility, resulting in a lognormal distribution.\n",
        "\n",
        "3. **Constant Volatility**  \n",
        "   The volatility of the underlying asset, $\\mathbf{\\sigma}$, is known and remains constant over the life of the option.\n",
        "\n",
        "4. **Constant Risk-Free Rate**  \n",
        "   The risk-free interest rate, $\\mathbf{r}$, is constant and known.\n",
        "\n",
        "5. **No Dividends (or Continuous Dividends)**  \n",
        "   The model either assumes no dividends, or that dividends are paid continuously at a known yield, $\\mathbf{q}$.\n",
        "\n",
        "6. **European-Style Options**  \n",
        "   Options can only be exercised at expiration (European exercise), not before.\n",
        "\n",
        "7. **No Arbitrage**  \n",
        "   There are no opportunities for riskless profit in the market.\n",
        "\n",
        "8. **Frictionless Trading**  \n",
        "   Assets can be bought or sold in any quantity at any time without impacting the market price.\n",
        "\n",
        "---"
      ],
      "metadata": {
        "id": "Q7utBzsMtYRf"
      },
      "id": "Q7utBzsMtYRf"
    },
    {
      "cell_type": "markdown",
      "id": "0a42adc3-7158-4130-831e-3bd258e31cdb",
      "metadata": {
        "id": "0a42adc3-7158-4130-831e-3bd258e31cdb"
      },
      "source": [
        "##  Black–Scholes Pricing Model\n",
        "\n",
        "The model takes **six key inputs**:\n",
        "- S: Current underlying price (e.g. equity, futures, commodity, etc.)\n",
        "- K:  Strike price\n",
        "- T:  Time to maturity (in years, annualized)\n",
        "- r:  Risk-free interest rate\n",
        "- $\\mathbf{\\sigma}$:  Volatility of the underlying stock\n",
        "- q:  Dividend yield\n",
        "\n",
        "<br />\n",
        "\n",
        "### **Call and Put Price Formulas**\n",
        "The Black–Scholes model provides closed-form formulas for European options:\n",
        "\n",
        "**Call option:**\n",
        "$$\n",
        "C = S e^{-qT} N(d_1) - K e^{-rT} N(d_2)\n",
        "$$\n",
        "\n",
        "**Put option:**\n",
        "$$\n",
        "P = K e^{-rT} N(-d_2) - S e^{-qT} N(-d_1)\n",
        "$$\n",
        "\n",
        "Where:  \n",
        "- **Discount factor for the stock price:**  \n",
        "$$\n",
        "e^{-qT}\n",
        "$$\n",
        "accounts for dividends expected during the option’s life.  \n",
        "\n",
        "- **Discount factor for the strike price:**  \n",
        "$$\n",
        "e^{-rT}\n",
        "$$\n",
        "brings the strike price to present value using the risk-free rate.  \n",
        "\n",
        "- **Standard normal CDF:**  \n",
        "$$\n",
        "N(\\cdot)\n",
        "$$\n",
        "represents the cumulative distribution function of the standard normal distribution.\n",
        "\n",
        "---\n",
        "\n",
        "### **Interpreting $\\mathbf{d_1}$ and $\\mathbf{d_2}$**\n",
        "\n",
        "The variables **$\\mathbf{d_1}$** and **$\\mathbf{d_2}$** represent the “moneyness” of the option, adjusted for time and volatility:\n",
        "\n",
        "$$\n",
        "d_1 =\n",
        "\\frac{\n",
        "    \\ln\\!\\left(\\frac{S}{K}\\right)\n",
        "    + \\left(r - q + \\frac{\\sigma^2}{2}\\right)T\n",
        "}{\n",
        "    \\sigma \\sqrt{T}\n",
        "}\n",
        "$$\n",
        "\n",
        "$$\n",
        "d_2 = d_1 - \\sigma\\sqrt{T}\n",
        "$$\n",
        "\n",
        "---\n",
        "- **$\\mathbf{d_1}$**:  \n",
        "\n",
        "Represents how many standard deviations the current underlying price \\(S\\) is above the strike price \\(K\\), taking into account the cost of carry \\((r-q)\\) and half the variance:\n",
        "$$\n",
        "\\frac{\\sigma^2}{2}\n",
        "$$\n",
        "\n",
        "---\n",
        "\n",
        "- **$\\mathbf{d_2}$**:  \n",
        "\n",
        "Calculated by subtracting a single volatility term from $\\mathbf{d_1}$:\n",
        "$$\n",
        "\\sigma\\sqrt{T}\n",
        "$$\n",
        "Here, $\\mathbf{N(d_2)}$ represents the **risk-neutral probability of exercising the option**, i.e., the likelihood the option ends in-the-money, weighted by the payoff at expiration.\n",
        "\n",
        "---"
      ]
    },
    {
      "cell_type": "markdown",
      "id": "90465488-30a2-4781-9b10-2882e1ec51b7",
      "metadata": {
        "id": "90465488-30a2-4781-9b10-2882e1ec51b7"
      },
      "source": [
        "## The Greeks\n",
        "\n",
        "The Greeks refer to the following set of variables that measure the sensitivity of an option's price to different market factors:\n",
        "\n",
        "- **Delta (Δ)**  \n",
        "  Measures how much the option price changes for a small change in the underlying asset's price.\n",
        "\n",
        "- **Gamma (Γ)**  \n",
        "  Measures the rate of change of delta with respect to changes in the underlying asset's price (i.e., curvature of the option price).\n",
        "\n",
        "- **Theta (Θ)**  \n",
        "  Measures how the option price changes as time passes, capturing the effect of time decay.\n",
        "\n",
        "- **Vega (ν)**  \n",
        "  Measures how sensitive the option price is to changes in the implied volatility of the underlying asset.\n",
        "\n",
        "- **Rho (ρ)**  \n",
        "  Measures the sensitivity of the option price to changes in the risk-free interest rate.\n",
        "\n",
        "---"
      ]
    },
    {
      "cell_type": "markdown",
      "id": "a23f6195-ddd0-44a3-99ce-0c6d215d5dab",
      "metadata": {
        "id": "a23f6195-ddd0-44a3-99ce-0c6d215d5dab"
      },
      "source": [
        "## Calculating Implied Volatility\n",
        "Implied volatility (IV) cannot be directly observed — it must be **inferred** from market option prices using the Black–Scholes model.\n",
        "\n",
        "## Newton-Raphson Method\n",
        "\n",
        "Since the Black–Scholes formula does not provide a closed-form solution for **$\\mathbf{\\sigma}$**, the following method:\n",
        "\n",
        "1. Start with an **initial guess** for volatility: **$\\mathbf{\\sigma_0}$**\n",
        "2. Compute the option price using the **Black–Scholes formula**\n",
        "3. Calculate **vega**, the derivative of the option price with respect to volatility\n",
        "4. Update the volatility estimate:\n",
        "   $$\n",
        "   \\sigma_{\\text{next}} = \\sigma_{\\text{current}} + \\frac{\\text{Market Price} - \\text{BS Price}(\\sigma_{\\text{current}})}{\\text{Vega}(\\sigma_{\\text{current}})}\n",
        "   $$\n",
        "5. Repeat until the difference between the market price and theoretical price is below a desired **tolerance**\n",
        "<br />\n",
        "\n",
        "Essentially, implied volatility is the volatility $\\mathbf{\\sigma}$ that makes the Black-Scholes **theoretical price equal to the market-observed option price**."
      ]
    }
  ],
  "metadata": {
    "kernelspec": {
      "display_name": "Python [conda env:base] *",
      "language": "python",
      "name": "conda-base-py"
    },
    "language_info": {
      "codemirror_mode": {
        "name": "ipython",
        "version": 3
      },
      "file_extension": ".py",
      "mimetype": "text/x-python",
      "name": "python",
      "nbconvert_exporter": "python",
      "pygments_lexer": "ipython3",
      "version": "3.12.2"
    },
    "colab": {
      "provenance": []
    }
  },
  "nbformat": 4,
  "nbformat_minor": 5
}